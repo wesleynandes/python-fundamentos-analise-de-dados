{
  "nbformat": 4,
  "nbformat_minor": 0,
  "metadata": {
    "colab": {
      "provenance": [],
      "collapsed_sections": [
        "_D0agnaeseW3",
        "pH9Y5pn4suaQ",
        "P6cYNaY6s75Y",
        "CJOnpgAxo3rD",
        "2xlMWeUppy5D",
        "f2lzTRV0p1WT",
        "t9bLGlR15Bdz",
        "lSPQr9wl5Rzx",
        "QFaYUAAw5XZi",
        "IilZjbct5eCM",
        "cnIVgRWw5gjx",
        "oOAqnMFX5p25",
        "skHltQse5ukZ",
        "E6gZDPks5z5W",
        "YopBFmDM59g6",
        "MaCXMo9X6BsS"
      ],
      "authorship_tag": "ABX9TyN9r8tpNdqcQ2iuOPVmiixc"
    },
    "kernelspec": {
      "name": "python3",
      "display_name": "Python 3"
    },
    "language_info": {
      "name": "python"
    }
  },
  "cells": [
    {
      "cell_type": "markdown",
      "source": [
        "## **Projeto Analise Exploratória de dados em Python**"
      ],
      "metadata": {
        "id": "oLzGMNJKdBa-"
      }
    },
    {
      "cell_type": "markdown",
      "source": [
        "Este projeto tem como principal objetivo proporcionar a verificação  das principais habilidades técnicas sobre fundamentos de Python aprendidas no Bootcamp de análise de dados. A proposta alia conceitos com o tema análise exploratória de dados.\n",
        "Será construido um script em que receba do usuário duas variáveis de valores quantitativos e devolva como resposta medidas de estatística descritiva para cada uma.\n"
      ],
      "metadata": {
        "id": "PBTCLA9Nded5"
      }
    },
    {
      "cell_type": "markdown",
      "source": [
        "Escola : Soulcode Academy\n",
        "\n",
        "Curso: Bootcamp Analista de Dados - Martech - AD2\n",
        "\n",
        "Professores: Douglas Ribeiro e Franciane Rodrigues\n",
        "\n",
        "Aluno: Wesley Luiz"
      ],
      "metadata": {
        "id": "F0uh1lMIe7uR"
      }
    },
    {
      "cell_type": "markdown",
      "source": [
        "## **Recebendo variáveis do usuário**"
      ],
      "metadata": {
        "id": "_D0agnaeseW3"
      }
    },
    {
      "cell_type": "code",
      "execution_count": 1,
      "metadata": {
        "colab": {
          "base_uri": "https://localhost:8080/"
        },
        "id": "MdNgfQdYcyBB",
        "outputId": "e6b75dfe-ada8-45ca-c196-8dd169ae4d85"
      },
      "outputs": [
        {
          "output_type": "stream",
          "name": "stdout",
          "text": [
            "Informe uma sequência de números separados por espaços: 4 3 2 1 5 6\n",
            "Informe outra sequência de números separados por espaços\n",
            "com a mesma quantidade informada na lista anterior: 5 6 7 8 2 3\n",
            "Listas processadas com sucesso!\n"
          ]
        }
      ],
      "source": [
        "# Receber duas variáveis do usuário\n",
        "\n",
        "n1 = input('Informe uma sequência de números separados por espaços: ')\n",
        "n2 = input('''Informe outra sequência de números separados por espaços\n",
        "com a mesma quantidade informada na lista anterior: ''')\n",
        "\n",
        "x = n1.split()\n",
        "y = n2.split()\n",
        "\n",
        "# Verifica se as listas têm a mesma quantidade de elementos\n",
        "if len(x) != len(y):\n",
        "    print(\"As listas não têm a mesma quantidade de elementos.\")\n",
        "elif len(x) == 0 or len(y) == 0:\n",
        "    print(\"Uma ou ambas as listas estão vazias.\")\n",
        "else:\n",
        "    print(\"Listas processadas com sucesso!\")"
      ]
    },
    {
      "cell_type": "markdown",
      "source": [
        "## **Média Aritmética**"
      ],
      "metadata": {
        "id": "pH9Y5pn4suaQ"
      }
    },
    {
      "cell_type": "markdown",
      "source": [
        "\n",
        "\n",
        "*   A Média Aritmética de um conjunto de dados é obtida somando todos os valores e dividindo o valor encontrado pelo número de dados desse conjunto.\n",
        "\n"
      ],
      "metadata": {
        "id": "MAdOzYyItKwg"
      }
    },
    {
      "cell_type": "code",
      "source": [
        "'''\n",
        "1 somar todos os valores\n",
        "2 dividir o valor da soma pela quantidade de indice da lista (len())\n",
        "'''\n",
        "for i in range(len(x)):\n",
        "  x[i] = float(x[i])\n",
        "  y[i] = float(y[i])\n",
        "\n",
        "sx = sum(x)\n",
        "sy = sum(y)\n",
        "\n",
        "print(f'a soma de X é {sx:.1f} e a soma de Y é {sy:.1f}')\n",
        "\n",
        "mediaX = sx / len(x)\n",
        "mediaY = sy / len(y)\n",
        "\n",
        "print(f'A média de X é {mediaX:.1f} e a média de Y é {mediaY:.1f}')"
      ],
      "metadata": {
        "colab": {
          "base_uri": "https://localhost:8080/"
        },
        "id": "TLBK0m-dszbj",
        "outputId": "3dbaeaba-72f7-41bc-db04-45b2c7be4252"
      },
      "execution_count": 2,
      "outputs": [
        {
          "output_type": "stream",
          "name": "stdout",
          "text": [
            "a soma de X é 21.0 e a soma de Y é 31.0\n",
            "A média de X é 3.5 e a média de Y é 5.2\n"
          ]
        }
      ]
    },
    {
      "cell_type": "markdown",
      "source": [
        "## **Mediana**"
      ],
      "metadata": {
        "id": "P6cYNaY6s75Y"
      }
    },
    {
      "cell_type": "markdown",
      "source": [
        "\n",
        "\n",
        "*   Mediana é o número central de uma lista de dados organizados de forma crescente ou decrescente, sendo uma medida de tendência central ou, de centralidade.\n",
        "*   A mediana é particularmente útil quando os dados apresentam valores extremos ou outliers, que podem afetar significativamente a média e torná-la menos representativa do conjunto de dados como um todo.\n",
        "\n"
      ],
      "metadata": {
        "id": "q19o0QidAgxV"
      }
    },
    {
      "cell_type": "code",
      "source": [
        "'''\n",
        "\"PMD = n + 1 / 2 = x\n",
        "PMD = Posição da mediana\n",
        "n = numero de registros\n",
        "x = mediana\" conta do professor douglas.\n",
        "\n",
        "Se o número total de observações (valores) for IMPAR, então a fórmula usada\n",
        "para calcular a mediana será a seguinte:\n",
        "\n",
        "md = (n+1)/2\n",
        "md = mediana\n",
        "n = quantidade de elementos\n",
        "\n",
        "Se o número total de observações (valores) for PAR, então a fórmula usada\n",
        "para calcular a mediana será a seguinte:\n",
        "\n",
        "md = (n/2) + ((n/2) + 1) / 2\n",
        "md = mediana\n",
        "n = quantidade de elementos\n",
        "'''\n",
        "\n",
        "\n",
        "x_ordenado = sorted(x) # ordenando para crescente a lista\n",
        "y_ordenado = sorted(y)\n",
        "\n",
        "n1 = len(x_ordenado) # quantidade de elementos\n",
        "\n",
        "if n1 % 2 == 0: # se for par faça:\n",
        "  md1 = x_ordenado[n1//2]\n",
        "  md2 = x_ordenado[n1//2 - 1]\n",
        "  mediana1 = (int(md1) + int(md2))/2\n",
        "else: # se nao, ou seja impar faça:\n",
        "  mediana1 = x_ordenado[n1//2]\n",
        "print(f'A mediana de X é {mediana1}')\n",
        "\n",
        "if n1 % 2 == 0:  # se for par faça:\n",
        "  md3 = y_ordenado[n1//2]\n",
        "  md4 = y_ordenado[n1//2 - 1]\n",
        "  mediana2 = (int(md3) + int(md4))/2\n",
        "else: # se nao, ou seja impar faça:\n",
        "  mediana2 = y_ordenado[n1//2]\n",
        "print(f'A mediana de Y é {mediana2}')"
      ],
      "metadata": {
        "colab": {
          "base_uri": "https://localhost:8080/"
        },
        "id": "J6Hy1XWPs-3n",
        "outputId": "c92b8509-dac1-4bf9-84cd-293ef7440fad"
      },
      "execution_count": 3,
      "outputs": [
        {
          "output_type": "stream",
          "name": "stdout",
          "text": [
            "A mediana de X é 3.5\n",
            "A mediana de Y é 5.5\n"
          ]
        }
      ]
    },
    {
      "cell_type": "markdown",
      "source": [
        "## **Moda**"
      ],
      "metadata": {
        "id": "CJOnpgAxo3rD"
      }
    },
    {
      "cell_type": "markdown",
      "source": [
        "\n",
        "\n",
        "*   A Moda representa o valor mais frequente de um conjunto de dados, sendo assim, para defini-la basta observar a frequência com que os valores aparecem.\n",
        "\n"
      ],
      "metadata": {
        "id": "SVRL68Abo_cz"
      }
    },
    {
      "cell_type": "code",
      "source": [
        "# Moda de X\n",
        "n3 = len(x) # tamanho da lista\n",
        "x_ordenado = sorted(x) # ordenando para crescente a lista\n",
        "contagens = [0] * n3 # Lista para armazenar as contagens de cada número\n",
        "\n",
        "# Loop para contar as frequencias de cada número\n",
        "for i in range(n3):\n",
        "  for j in range(i + 1, n3):\n",
        "    if x_ordenado[i] == x_ordenado[j]: # Verifica se há ocorrência do mesmo número\n",
        "      contagens[i] += 1 # Incrementa a contagem do número\n",
        "\n",
        "max_contagem = max(contagens) # Encontra o valor máximo da contagem\n",
        "modaX = [] # Lista para armazenar os valores da modaX\n",
        "\n",
        "# Loop para adicionar os valores com contagem máxima à lista de modaX\n",
        "for i in range(n3):\n",
        "  if contagens[i] == max_contagem and x_ordenado[i] not in modaX: # Verifica se o número tem a contagem máxima e não está na lista de modaX\n",
        "    modaX.append(x_ordenado[i]) # Adiciona o número à lista de modaX\n",
        "\n",
        "print(f'Os valores com maior frequencia na lista X são {modaX}') # Imprime a lista de moda"
      ],
      "metadata": {
        "colab": {
          "base_uri": "https://localhost:8080/"
        },
        "id": "XvfYIIPpquWn",
        "outputId": "9cb634fb-23e0-453e-9065-64b5355aed6a"
      },
      "execution_count": 4,
      "outputs": [
        {
          "output_type": "stream",
          "name": "stdout",
          "text": [
            "Os valores com maior frequencia na lista X são [1.0, 2.0, 3.0, 4.0, 5.0, 6.0]\n"
          ]
        }
      ]
    },
    {
      "cell_type": "code",
      "source": [
        "# Moda de Y\n",
        "n4 = len(y) # tamanho da lista\n",
        "y_ordenado = sorted(y) # ordenando para crescente a lista\n",
        "contagens = [0] * n4 # Lista para armazenar as contagens de cada número\n",
        "\n",
        "# Loop para contar as frequencias de cada número\n",
        "for i in range(n4):\n",
        "  for j in range(i + 1, n4):\n",
        "    if y_ordenado[i] == y_ordenado[j]: # Verifica se há ocorrência do mesmo número\n",
        "      contagens[i] += 1 # Incrementa a contagem do número\n",
        "\n",
        "max_contagem = max(contagens) # Encontra o valor máximo da contagem\n",
        "modaY = [] # Lista para armazenar os valores da modaY\n",
        "\n",
        "# Loop para adicionar os valores com contagem máxima à lista de modaY\n",
        "for i in range(n4):\n",
        "  if contagens[i] == max_contagem and y_ordenado[i] not in modaY: # Verifica se o número tem a contagem máxima e não está na lista de modaY\n",
        "    modaY.append(y_ordenado[i]) # Adiciona o número à lista de modaY\n",
        "\n",
        "print(f'Os valores com maior frequencia na lista Y são {modaY}') # Imprime a lista de moda"
      ],
      "metadata": {
        "colab": {
          "base_uri": "https://localhost:8080/"
        },
        "id": "j3H4byC6sC-x",
        "outputId": "cfbb847c-dc18-4b2d-fe8b-aa201ff89b05"
      },
      "execution_count": 5,
      "outputs": [
        {
          "output_type": "stream",
          "name": "stdout",
          "text": [
            "Os valores com maior frequencia na lista Y são [2.0, 3.0, 5.0, 6.0, 7.0, 8.0]\n"
          ]
        }
      ]
    },
    {
      "cell_type": "markdown",
      "source": [
        "## **Variância amostral**"
      ],
      "metadata": {
        "id": "2xlMWeUppy5D"
      }
    },
    {
      "cell_type": "markdown",
      "source": [
        "\n",
        "\n",
        "*   A Variância Amostral é uma medida de dispersão que expressa o quanto os valores de um conjunto de dados estão distantes da média.\n",
        "*   Se obtém somando os quadrados dos desvios dos dados relativamente à média, e dividindo pelo número de dados menos um.\n",
        "\n"
      ],
      "metadata": {
        "id": "blXOySsh6c4x"
      }
    },
    {
      "cell_type": "code",
      "source": [
        "# Formula da variancia Variancia = (1/n) * Σ(xi - x̄)²\n",
        "'''\n",
        " Para cada valor da lista subtraímos a média e elevamos ao quadrado. Somamos\n",
        " todos os resultados obtidos e dividimos pelo número total de valores menos 1\n",
        "'''\n",
        "diferencaQuadX = []  # Cria uma lista vazia para armazenar as diferenças quadradas dos elementos de X em relação à média\n",
        "for i in range(len(x)):\n",
        "    diferencaQuadX.append((x[i] - mediaX)**2)  # Calcula a diferença entre cada elemento de X e a média, eleva ao quadrado e adiciona à lista diferencaQuadX\n",
        "\n",
        "varianciaX = sum(diferencaQuadX)/(len(x)-1)  # Calcula a variância de X somando todas as diferenças quadradas e dividindo pela quantidade de elementos menos 1\n",
        "\n",
        "diferencaQuadY = []\n",
        "for i in range(len(y)):\n",
        "    diferencaQuadY.append((y[i] - mediaY)**2)\n",
        "\n",
        "varianciaY = sum(diferencaQuadY)/(len(y)-1)\n",
        "\n",
        "print(f'Variância amostral de X {varianciaX:.1f}')\n",
        "print(f'Variância amostral de Y {varianciaY:.1f}')"
      ],
      "metadata": {
        "id": "2pI3id7lp0DH",
        "colab": {
          "base_uri": "https://localhost:8080/"
        },
        "outputId": "cb46077f-fb23-4b98-b12a-81318387fbe9"
      },
      "execution_count": 6,
      "outputs": [
        {
          "output_type": "stream",
          "name": "stdout",
          "text": [
            "Variância amostral de X 3.5\n",
            "Variância amostral de Y 5.4\n"
          ]
        }
      ]
    },
    {
      "cell_type": "markdown",
      "source": [
        "## **Desvio Padrão amostral**"
      ],
      "metadata": {
        "id": "f2lzTRV0p1WT"
      }
    },
    {
      "cell_type": "markdown",
      "source": [
        "\n",
        "\n",
        "*   O desvio-padrão mensura a dispersão de uma distribuição de dados. Ele mede a distância típica entre cada dado e a média.\n",
        "\n"
      ],
      "metadata": {
        "id": "Cs3jQxyq6tpL"
      }
    },
    {
      "cell_type": "code",
      "source": [
        "desvioX = varianciaX ** 0.5\n",
        "desvioY = varianciaY ** 0.5\n",
        "print(f'Desvio padrão amostral de X {desvioX:.1f}')\n",
        "print(f'Desvio padrão amostral de Y {desvioY:.1f}')"
      ],
      "metadata": {
        "id": "oulocgEHp2RX",
        "colab": {
          "base_uri": "https://localhost:8080/"
        },
        "outputId": "9e7a86f4-cb96-4a8f-f339-8fa7f499aa49"
      },
      "execution_count": 7,
      "outputs": [
        {
          "output_type": "stream",
          "name": "stdout",
          "text": [
            "Desvio padrão amostral de X 1.9\n",
            "Desvio padrão amostral de Y 2.3\n"
          ]
        }
      ]
    },
    {
      "cell_type": "markdown",
      "source": [
        "## **Amplitude total**"
      ],
      "metadata": {
        "id": "t9bLGlR15Bdz"
      }
    },
    {
      "cell_type": "markdown",
      "source": [
        "\n",
        "\n",
        "*   A amplitude total (AT), ou range, em um conjunto de dados é a diferença entre o maior e o menor valor observado.\n",
        "\n"
      ],
      "metadata": {
        "id": "Hu33xli_660a"
      }
    },
    {
      "cell_type": "code",
      "source": [
        "# Encontrar o valor mínimo e máximo\n",
        "amplitudeX = max(x) - min(x)\n",
        "amplitudeY = max(y) - min(y)\n",
        "# Resultado\n",
        "print(f'Amplitude total de X {amplitudeX:.1f}')\n",
        "print(f'Amplitude total de Y {amplitudeY:.1f}')"
      ],
      "metadata": {
        "id": "d_oicvLK5CoJ",
        "colab": {
          "base_uri": "https://localhost:8080/"
        },
        "outputId": "0036fd8e-32b5-4c42-c433-2703c5cf9e62"
      },
      "execution_count": 8,
      "outputs": [
        {
          "output_type": "stream",
          "name": "stdout",
          "text": [
            "Amplitude total de X 5.0\n",
            "Amplitude total de Y 6.0\n"
          ]
        }
      ]
    },
    {
      "cell_type": "markdown",
      "source": [
        "## **Q1 (primeiro quartil)**"
      ],
      "metadata": {
        "id": "lSPQr9wl5Rzx"
      }
    },
    {
      "cell_type": "markdown",
      "source": [
        "\n",
        "\n",
        "*   O primeiro quartil ou quartil inferior (Qi) éo valor do conjunto que delimita os 25% menores valores: 25% dos valores são menores do que Qi e 75% são maiores do que Qi.\n",
        "\n"
      ],
      "metadata": {
        "id": "jsqCU_Lj7Ixp"
      }
    },
    {
      "cell_type": "code",
      "source": [
        "# lista em ordem crescente\n",
        "x_ordenado = sorted(x)\n",
        "print(x)\n",
        "tamanhoX = len(x)\n",
        "listaQx = []\n",
        "\n",
        "if tamanhoX % 2 == 0:\n",
        "    for i in range(tamanhoX // 2):\n",
        "        listaQx.append(x_ordenado[i])\n",
        "else:\n",
        "    for i in range((tamanhoX + 1) // 2):\n",
        "        listaQx.append(x_ordenado[i])\n",
        "\n",
        "if len(listaQx) % 2 == 0:\n",
        "    quartil1X = (listaQx[len(listaQx) // 2 - 1] + listaQx[len(listaQx) // 2]) / 2\n",
        "else:\n",
        "    quartil1X = listaQx[(len(listaQx) - 1) // 2]\n",
        "\n",
        "print(f'O Quartil 1 de X é {quartil1X:.1f}')\n",
        "\n",
        "#indice = (tamanhoX + 1) * 0.25\n",
        "# q1 = (valor_inferior + valor_superior) / 2\n"
      ],
      "metadata": {
        "id": "W1DjKgHA5SpR",
        "colab": {
          "base_uri": "https://localhost:8080/"
        },
        "outputId": "a70018e6-61ee-4016-b046-1897d68df86b"
      },
      "execution_count": 9,
      "outputs": [
        {
          "output_type": "stream",
          "name": "stdout",
          "text": [
            "[4.0, 3.0, 2.0, 1.0, 5.0, 6.0]\n",
            "O Quartil 1 de X é 2.0\n"
          ]
        }
      ]
    },
    {
      "cell_type": "code",
      "source": [
        "# lista em ordem crescente\n",
        "y_ordenado = sorted(y)\n",
        "print(y)\n",
        "listaQy = []\n",
        "tamanhoY = len(y)\n",
        "\n",
        "if tamanhoY % 2 == 0:\n",
        "    for i in range(tamanhoY // 2):\n",
        "        listaQy.append(y_ordenado[i])\n",
        "else:\n",
        "    for i in range((tamanhoY + 1) // 2):\n",
        "        listaQy.append(y_ordenado[i])\n",
        "\n",
        "if len(listaQy) % 2 == 0:\n",
        "    quartil1Y = (listaQy[len(listaQy) // 2 - 1] + listaQy[len(listaQy) // 2]) / 2\n",
        "else:\n",
        "    quartil1Y = listaQy[(len(listaQy) - 1) // 2]\n",
        "\n",
        "print(f'O Quartil 1 de Y é {quartil1Y:.1f}')"
      ],
      "metadata": {
        "colab": {
          "base_uri": "https://localhost:8080/"
        },
        "id": "1SajBhG0LUXQ",
        "outputId": "7a00f9ea-cb11-4e1b-923d-6f626c1bba06"
      },
      "execution_count": 10,
      "outputs": [
        {
          "output_type": "stream",
          "name": "stdout",
          "text": [
            "[5.0, 6.0, 7.0, 8.0, 2.0, 3.0]\n",
            "O Quartil 1 de Y é 3.0\n"
          ]
        }
      ]
    },
    {
      "cell_type": "code",
      "source": [
        "# modo simples\n",
        "# q1 = int((len(x) + 1) * 0.25)\n",
        "y_ordenado = sorted(y)\n",
        "x_ordenado = sorted(x)\n",
        "\n",
        "indiceQ1x = (len(x_ordenado) - 1) * 0.25\n",
        "q1x = x_ordenado[int(indiceQ1x)]\n",
        "print(q1x)\n",
        "\n",
        "indiceQ1y = (len(y_ordenado) - 1) * 0.25\n",
        "q1y = y_ordenado[int(indiceQ1y)]\n",
        "print(q1y)"
      ],
      "metadata": {
        "colab": {
          "base_uri": "https://localhost:8080/"
        },
        "id": "cbg2gS07MrOr",
        "outputId": "77dc43ff-4967-422e-e8cb-3ee784e588f4"
      },
      "execution_count": 11,
      "outputs": [
        {
          "output_type": "stream",
          "name": "stdout",
          "text": [
            "2.0\n",
            "3.0\n"
          ]
        }
      ]
    },
    {
      "cell_type": "code",
      "source": [
        "# modo mais simples\n",
        "y_ordenado = sorted(y)\n",
        "x_ordenado = sorted(x)\n",
        "\n",
        "q1x = x_ordenado[len(x_ordenado)//4]\n",
        "print(q1x)\n",
        "q1y = y_ordenado[len(y_ordenado)//4]\n",
        "print(q1y)"
      ],
      "metadata": {
        "colab": {
          "base_uri": "https://localhost:8080/"
        },
        "id": "DNj28eVxPKAP",
        "outputId": "cfc32906-501d-4123-8c46-ebcdc7d2922d"
      },
      "execution_count": 12,
      "outputs": [
        {
          "output_type": "stream",
          "name": "stdout",
          "text": [
            "2.0\n",
            "3.0\n"
          ]
        }
      ]
    },
    {
      "cell_type": "markdown",
      "source": [
        "## **Q3 (terceiro quartil)**"
      ],
      "metadata": {
        "id": "QFaYUAAw5XZi"
      }
    },
    {
      "cell_type": "markdown",
      "source": [
        "\n",
        "\n",
        "*   O terceiro quartil ou quartil superior (Qs) éo valor que delimita os 25% maiores valores: 75% dos valores são menores do que Qs e 25% são maiores do que Qs.\n",
        "\n"
      ],
      "metadata": {
        "id": "GNv3vMKb7SEh"
      }
    },
    {
      "cell_type": "code",
      "source": [
        "x_ordenado = sorted(x)\n",
        "print(x)\n",
        "tamanhoX = len(x)\n",
        "listaQ3x = []\n",
        "\n",
        "if tamanhoX % 2 == 0:\n",
        "    for i in range(tamanhoX // 2, tamanhoX):\n",
        "        listaQ3x.append(x_ordenado[i])\n",
        "else:\n",
        "    for i in range((tamanhoX + 1) // 2, tamanhoX):\n",
        "        listaQ3x.append(x_ordenado[i])\n",
        "\n",
        "if len(listaQ3x) % 2 == 0:\n",
        "    quartil3X = (listaQ3x[len(listaQ3x) // 2 - 1] + listaQ3x[len(listaQ3x) // 2]) / 2\n",
        "else:\n",
        "    quartil3X = listaQ3x[(len(listaQ3x) - 1) // 2]\n",
        "\n",
        "print(f'O Quartil 3 de X é {quartil3X:.1f}')"
      ],
      "metadata": {
        "id": "FGtNcnzS5bhc",
        "colab": {
          "base_uri": "https://localhost:8080/"
        },
        "outputId": "fb233133-bec7-4cc4-fb8a-52a66d84f5d5"
      },
      "execution_count": 13,
      "outputs": [
        {
          "output_type": "stream",
          "name": "stdout",
          "text": [
            "[4.0, 3.0, 2.0, 1.0, 5.0, 6.0]\n",
            "O Quartil 3 de X é 5.0\n"
          ]
        }
      ]
    },
    {
      "cell_type": "code",
      "source": [
        "y_ordenado = sorted(y)\n",
        "print(y)\n",
        "tamanhoY = len(y)\n",
        "listaQ3y = []\n",
        "\n",
        "if tamanhoY % 2 == 0:\n",
        "    for i in range(tamanhoY // 2, tamanhoY):\n",
        "        listaQ3y.append(y_ordenado[i])\n",
        "else:\n",
        "    for i in range((tamanhoY + 1) // 2, tamanhoY):\n",
        "        listaQ3y.append(y_ordenado[i])\n",
        "\n",
        "if len(listaQ3y) % 2 == 0:\n",
        "    quartil3Y = (listaQ3y[len(listaQ3y) // 2 - 1] + listaQ3y[len(listaQ3y) // 2]) / 2\n",
        "else:\n",
        "    quartil3Y = listaQ3y[(len(listaQ3y) - 1) // 2]\n",
        "\n",
        "print(f'O Quartil 3 de Y é {quartil3Y:.1f}')"
      ],
      "metadata": {
        "colab": {
          "base_uri": "https://localhost:8080/"
        },
        "id": "7AmgGc09OUWX",
        "outputId": "d6ef0071-c74c-45e1-ec4c-63994b39b704"
      },
      "execution_count": 14,
      "outputs": [
        {
          "output_type": "stream",
          "name": "stdout",
          "text": [
            "[5.0, 6.0, 7.0, 8.0, 2.0, 3.0]\n",
            "O Quartil 3 de Y é 7.0\n"
          ]
        }
      ]
    },
    {
      "cell_type": "markdown",
      "source": [
        "## **AIQ (amplitude interquartílica)**"
      ],
      "metadata": {
        "id": "IilZjbct5eCM"
      }
    },
    {
      "cell_type": "markdown",
      "source": [
        "\n",
        "\n",
        "*   Amplitude interquartil de uma amostra (ou coleção) de dados de tipo quantitativo é uma medida da variabilidade ou dispersão (medidas de dispersão) dos dados. Define-se como sendo a diferença entre o 3º quartil ou quartil superior e o 1º quartil ou quartil inferior.\n",
        "\n"
      ],
      "metadata": {
        "id": "rXVNjiZK7xmR"
      }
    },
    {
      "cell_type": "code",
      "source": [
        "amplitudeX = quartil3X - quartil1X\n",
        "amplitudeY = quartil3Y - quartil1Y\n",
        "\n",
        "print(f'A amplitude interquartilica de X é {amplitudeX}')\n",
        "print(f'A amplitude interquartilica de Y é {amplitudeY}')"
      ],
      "metadata": {
        "id": "88nTFr5y5gAz",
        "colab": {
          "base_uri": "https://localhost:8080/"
        },
        "outputId": "ee000107-64f0-434a-92f4-2194691e9a04"
      },
      "execution_count": 15,
      "outputs": [
        {
          "output_type": "stream",
          "name": "stdout",
          "text": [
            "A amplitude interquartilica de X é 3.0\n",
            "A amplitude interquartilica de Y é 4.0\n"
          ]
        }
      ]
    },
    {
      "cell_type": "markdown",
      "source": [
        "## **Limite inferior (LI do boxplot) e Limite superior (LS do boxplot)**"
      ],
      "metadata": {
        "id": "cnIVgRWw5gjx"
      }
    },
    {
      "cell_type": "markdown",
      "source": [
        "\n",
        "\n",
        "*   O limite inferior é o valor mínimo que se espera que uma estimativa ou conjunto de dados tenha. É o limite mais baixo dentro do qual os valores são considerados aceitáveis. Se um valor estiver abaixo do limite inferior, pode-se considerar como uma indicação de que algo está fora do padrão ou abaixo do esperado.\n",
        "*   Por outro lado, o limite superior é o valor máximo que se espera que uma estimativa ou conjunto de dados tenha. É o limite mais alto dentro do qual os valores são considerados aceitáveis. Se um valor estiver acima do limite superior, também pode indicar algo fora do padrão ou acima do esperado.\n",
        "\n"
      ],
      "metadata": {
        "id": "hV_hxlZ2972C"
      }
    },
    {
      "cell_type": "code",
      "source": [
        "# Limite inferior\n",
        "limiteInferiorX = quartil1X - (1.5 * amplitudeX)\n",
        "limiteInferiorY = quartil1Y - (1.5 * amplitudeY)\n",
        "\n",
        "print(f'O limite inferior de X é {limiteInferiorX}')\n",
        "print(f'O limite inferior de Y é {limiteInferiorY}')"
      ],
      "metadata": {
        "id": "bvUi91V85k20",
        "colab": {
          "base_uri": "https://localhost:8080/"
        },
        "outputId": "9ea5f7e9-deab-4f9d-aa62-fae45ba7d841"
      },
      "execution_count": 16,
      "outputs": [
        {
          "output_type": "stream",
          "name": "stdout",
          "text": [
            "O limite inferior de X é -2.5\n",
            "O limite inferior de Y é -3.0\n"
          ]
        }
      ]
    },
    {
      "cell_type": "code",
      "source": [
        "# Limite Superior\n",
        "limiteSuperiorX = quartil3X + (1.5 * amplitudeX)\n",
        "limiteSuperiorY = quartil3Y + (1.5 * amplitudeY)\n",
        "\n",
        "print(f'O limite Superior de X é {limiteSuperiorX}')\n",
        "print(f'O limite Superior de Y é {limiteSuperiorY}')"
      ],
      "metadata": {
        "id": "NvU5_AxvFiLh",
        "colab": {
          "base_uri": "https://localhost:8080/"
        },
        "outputId": "0e918386-d0c1-493d-80e0-0f0f728ba41f"
      },
      "execution_count": 17,
      "outputs": [
        {
          "output_type": "stream",
          "name": "stdout",
          "text": [
            "O limite Superior de X é 9.5\n",
            "O limite Superior de Y é 13.0\n"
          ]
        }
      ]
    },
    {
      "cell_type": "markdown",
      "source": [
        "## **Identificação e classificação de possíveis outliers na amostra**"
      ],
      "metadata": {
        "id": "oOAqnMFX5p25"
      }
    },
    {
      "cell_type": "markdown",
      "source": [
        "\n",
        "\n",
        "*   É um valor que se afasta significativamente dos demais valores de um conjunto de dados.\n",
        "\n"
      ],
      "metadata": {
        "id": "iIyjehXFBfC5"
      }
    },
    {
      "cell_type": "code",
      "source": [
        "outliersX = []\n",
        "outliersY = []\n",
        "x_ordenado = sorted(x)\n",
        "y_ordenado = sorted(y)\n",
        "\n",
        "for i in x_ordenado:\n",
        "    if i < limiteInferiorX or i > limiteSuperiorX:\n",
        "        outliersX.append(i)\n",
        "\n",
        "for i in y_ordenado:\n",
        "    if i < limiteInferiorY or i > limiteSuperiorY:\n",
        "        outliersY.append(i)\n",
        "\n",
        "if len(outliersX) > 0:\n",
        "    print(f'Tem outliers em X: {outliersX}')\n",
        "else:\n",
        "    print('Não há outliers em X')\n",
        "\n",
        "if len(outliersY) > 0:\n",
        "    print(f'Tem outliers em Y: {outliersY}')\n",
        "else:\n",
        "    print('Não há outliers em Y')"
      ],
      "metadata": {
        "id": "EjUf-P415t-b",
        "colab": {
          "base_uri": "https://localhost:8080/"
        },
        "outputId": "896bd121-8cb7-4372-f9cb-7af5bfa2ecdc"
      },
      "execution_count": 18,
      "outputs": [
        {
          "output_type": "stream",
          "name": "stdout",
          "text": [
            "Não há outliers em X\n",
            "Não há outliers em Y\n"
          ]
        }
      ]
    },
    {
      "cell_type": "markdown",
      "source": [
        "## **Coeficiente de Correlação de Pearson ( r )**"
      ],
      "metadata": {
        "id": "skHltQse5ukZ"
      }
    },
    {
      "cell_type": "markdown",
      "source": [
        "\n",
        "\n",
        "*   O coeficiente de correlação de Pearson é uma medida estatística que nos ajuda a entender como duas variáveis estão relacionadas entre si, se existe uma relação forte, fraca ou inexistente, e se essa relação é positiva ou negativa.\n",
        "\n"
      ],
      "metadata": {
        "id": "ar0JJpPtAca6"
      }
    },
    {
      "cell_type": "code",
      "source": [
        "# Dados\n",
        "print(x)\n",
        "print(y)\n",
        "tamanhoX = len(x)\n",
        "# Cálculo das somas\n",
        "print(sx)\n",
        "print(sy)\n",
        "\n",
        "# Cálculo dos quadrados de x\n",
        "quadX = []\n",
        "c = 0\n",
        "while c < len(x):\n",
        "    quadX.append(x[c] ** 2)\n",
        "    c += 1\n",
        "\n",
        "# Cálculo dos quadrados de y\n",
        "quadY = []\n",
        "c = 0\n",
        "while c < len(y):\n",
        "    quadY.append(y[c] ** 2)\n",
        "    c += 1\n",
        "\n",
        "# Cálculo da soma dos quadrados\n",
        "soma_quadX = sum(quadX)\n",
        "soma_quadY = sum(quadY)\n",
        "\n",
        "# Cálculo da soma dos produtos\n",
        "soma_xy = 0\n",
        "c = 0\n",
        "while c < tamanhoX:\n",
        "    soma_xy += x[c] * y[c]\n",
        "    c += 1\n",
        "\n",
        "# Cálculo do Coeficiente de Correlação de Pearson\n",
        "numerador = (tamanhoX * soma_xy) - (sx * sy)\n",
        "denominador = ((tamanhoX * soma_quadX - sx ** 2) ** 0.5) * ((tamanhoX * soma_quadY - sy ** 2) ** 0.5)\n",
        "r = numerador / denominador\n",
        "\n",
        "print(f'Coeficiente de Correlação de Pearson: {r:.2f}')"
      ],
      "metadata": {
        "colab": {
          "base_uri": "https://localhost:8080/"
        },
        "id": "bXo3U3jo9Zk6",
        "outputId": "51de62a6-1329-40ce-8e57-6cdb296ae09a"
      },
      "execution_count": 19,
      "outputs": [
        {
          "output_type": "stream",
          "name": "stdout",
          "text": [
            "[4.0, 3.0, 2.0, 1.0, 5.0, 6.0]\n",
            "[5.0, 6.0, 7.0, 8.0, 2.0, 3.0]\n",
            "21.0\n",
            "31.0\n",
            "Coeficiente de Correlação de Pearson: -0.95\n"
          ]
        }
      ]
    },
    {
      "cell_type": "markdown",
      "source": [
        "## **Coeficiente de determinação ( r ao quadrado)**"
      ],
      "metadata": {
        "id": "E6gZDPks5z5W"
      }
    },
    {
      "cell_type": "markdown",
      "source": [
        "\n",
        "\n",
        "*   Ele representa a \"força\" ou a \"qualidade\" da relação entre as duas variáveis. Quanto mais próximo de 1 for o valor de r², mais forte é a relação entre as variáveis e melhor a variável independente consegue prever a variável dependente.\n",
        "\n"
      ],
      "metadata": {
        "id": "RCpz4KbNA1Th"
      }
    },
    {
      "cell_type": "code",
      "source": [
        "# Coeficiente de determinação (r ao quadrado)\n",
        "\n",
        "r_quad = r ** 2\n",
        "\n",
        "print(f'Coeficiente de determinação {r_quad:.2f}')\n"
      ],
      "metadata": {
        "id": "2eYRyyJp54KA",
        "colab": {
          "base_uri": "https://localhost:8080/"
        },
        "outputId": "0db966a6-83ae-452e-891e-5d7e0a020d18"
      },
      "execution_count": 20,
      "outputs": [
        {
          "output_type": "stream",
          "name": "stdout",
          "text": [
            "Coeficiente de determinação 0.89\n"
          ]
        }
      ]
    },
    {
      "cell_type": "markdown",
      "source": [
        "## **Coeficiente a ou alpha da equação de regressão linear simples para as duas variáveis escolhidas pelo usuário**"
      ],
      "metadata": {
        "id": "YopBFmDM59g6"
      }
    },
    {
      "cell_type": "code",
      "source": [
        "# Calcular o coeficiente alpha\n",
        "alpha = (sy * soma_quadX - sx * soma_xy) / (tamanhoX * soma_quadX - sx ** 2)\n",
        "\n",
        "print(f'Coeficiente Alpha {alpha:.2f}')"
      ],
      "metadata": {
        "id": "o1RFui_45_ME",
        "colab": {
          "base_uri": "https://localhost:8080/"
        },
        "outputId": "50cbdca1-8cba-4f49-b104-215675714bd0"
      },
      "execution_count": 21,
      "outputs": [
        {
          "output_type": "stream",
          "name": "stdout",
          "text": [
            "Coeficiente Alpha 9.27\n"
          ]
        }
      ]
    },
    {
      "cell_type": "markdown",
      "source": [
        "## **Coeficiente b ou beta da equação de regressão linear simples para as duas variáveis escolhidas pelo usuário**"
      ],
      "metadata": {
        "id": "MaCXMo9X6BsS"
      }
    },
    {
      "cell_type": "code",
      "source": [
        "beta = (tamanhoX * soma_xy - sx * sy) / (tamanhoX * soma_quadX - sx ** 2)\n",
        "\n",
        "print(f'Coeficiente Beta {beta:.2f}')"
      ],
      "metadata": {
        "id": "YRQr_vqs6Cx1",
        "colab": {
          "base_uri": "https://localhost:8080/"
        },
        "outputId": "9a404229-5d9b-4217-f077-09861e68f066"
      },
      "execution_count": 22,
      "outputs": [
        {
          "output_type": "stream",
          "name": "stdout",
          "text": [
            "Coeficiente Beta -1.17\n"
          ]
        }
      ]
    }
  ]
}